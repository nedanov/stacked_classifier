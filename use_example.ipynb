{
 "cells": [
  {
   "cell_type": "code",
   "execution_count": 1,
   "metadata": {
    "collapsed": false
   },
   "outputs": [
    {
     "name": "stderr",
     "output_type": "stream",
     "text": [
      "C:\\Users\\bnedanov\\AppData\\Local\\Continuum\\Anaconda3\\lib\\site-packages\\sklearn\\cross_validation.py:44: DeprecationWarning: This module was deprecated in version 0.18 in favor of the model_selection module into which all the refactored classes and functions are moved. Also note that the interface of the new CV iterators are different from that of this module. This module will be removed in 0.20.\n",
      "  \"This module will be removed in 0.20.\", DeprecationWarning)\n"
     ]
    }
   ],
   "source": [
    "import numpy as np\n",
    "import pandas as pd\n",
    "import matplotlib.pyplot as plt\n",
    "from sklearn.linear_model import LogisticRegression\n",
    "from sklearn.ensemble import RandomForestClassifier\n",
    "from sklearn.model_selection import train_test_split\n",
    "from sklearn.cross_validation import StratifiedKFold\n",
    "from sklearn.tree import DecisionTreeClassifier\n",
    "from stacked_classifier import StackedPredictionCV\n",
    "from sklearn.metrics import roc_curve, auc\n",
    "from sklearn import datasets\n",
    "%load_ext autoreload\n",
    "%autoreload 2"
   ]
  },
  {
   "cell_type": "code",
   "execution_count": 2,
   "metadata": {
    "collapsed": true
   },
   "outputs": [],
   "source": [
    "#skin dataset - 3 features and 1 target\n",
    "url = 'https://archive.ics.uci.edu/ml/machine-learning-databases/00229/Skin_NonSkin.txt'\n",
    "skin_data_raw = pd.read_csv(url,sep='\\t',names=['x1','x2','x3','target'])"
   ]
  },
  {
   "cell_type": "code",
   "execution_count": 3,
   "metadata": {
    "collapsed": false
   },
   "outputs": [
    {
     "name": "stdout",
     "output_type": "stream",
     "text": [
      "[1 2]\n"
     ]
    },
    {
     "data": {
      "text/html": [
       "<div>\n",
       "<table border=\"1\" class=\"dataframe\">\n",
       "  <thead>\n",
       "    <tr style=\"text-align: right;\">\n",
       "      <th></th>\n",
       "      <th>x1</th>\n",
       "      <th>x2</th>\n",
       "      <th>x3</th>\n",
       "      <th>target</th>\n",
       "    </tr>\n",
       "  </thead>\n",
       "  <tbody>\n",
       "    <tr>\n",
       "      <th>0</th>\n",
       "      <td>74</td>\n",
       "      <td>85</td>\n",
       "      <td>123</td>\n",
       "      <td>0</td>\n",
       "    </tr>\n",
       "    <tr>\n",
       "      <th>1</th>\n",
       "      <td>73</td>\n",
       "      <td>84</td>\n",
       "      <td>122</td>\n",
       "      <td>0</td>\n",
       "    </tr>\n",
       "    <tr>\n",
       "      <th>2</th>\n",
       "      <td>72</td>\n",
       "      <td>83</td>\n",
       "      <td>121</td>\n",
       "      <td>0</td>\n",
       "    </tr>\n",
       "    <tr>\n",
       "      <th>3</th>\n",
       "      <td>70</td>\n",
       "      <td>81</td>\n",
       "      <td>119</td>\n",
       "      <td>0</td>\n",
       "    </tr>\n",
       "    <tr>\n",
       "      <th>4</th>\n",
       "      <td>70</td>\n",
       "      <td>81</td>\n",
       "      <td>119</td>\n",
       "      <td>0</td>\n",
       "    </tr>\n",
       "  </tbody>\n",
       "</table>\n",
       "</div>"
      ],
      "text/plain": [
       "   x1  x2   x3  target\n",
       "0  74  85  123       0\n",
       "1  73  84  122       0\n",
       "2  72  83  121       0\n",
       "3  70  81  119       0\n",
       "4  70  81  119       0"
      ]
     },
     "execution_count": 3,
     "metadata": {},
     "output_type": "execute_result"
    }
   ],
   "source": [
    "print(skin_data_raw['target'].unique())\n",
    "skin_data_raw['target']=skin_data_raw['target'].map({1:0,2:1})\n",
    "skin_data_raw.head()"
   ]
  },
  {
   "cell_type": "code",
   "execution_count": 4,
   "metadata": {
    "collapsed": false
   },
   "outputs": [
    {
     "data": {
      "text/plain": [
       "array([0, 1], dtype=int64)"
      ]
     },
     "execution_count": 4,
     "metadata": {},
     "output_type": "execute_result"
    }
   ],
   "source": [
    "skin_data_raw['target'].unique()"
   ]
  },
  {
   "cell_type": "code",
   "execution_count": 5,
   "metadata": {
    "collapsed": true
   },
   "outputs": [],
   "source": [
    "X = skin_data_raw.values[:,:3]\n",
    "y = skin_data_raw.values[:,3]"
   ]
  },
  {
   "cell_type": "code",
   "execution_count": 6,
   "metadata": {
    "collapsed": true
   },
   "outputs": [],
   "source": [
    "#X_test,y_test used for final model evaluation\n",
    "X_train,X_test,y_train,y_test = train_test_split(X,y,test_size=0.33,random_state=1)"
   ]
  },
  {
   "cell_type": "code",
   "execution_count": 7,
   "metadata": {
    "collapsed": false
   },
   "outputs": [],
   "source": [
    "lm = LogisticRegression()\n",
    "lm.fit(X_train,y_train)\n",
    "y_pred_lm = lm.predict(X_test)\n",
    "y_pred_proba_lm = lm.predict_proba(X_test)[:,1]\n",
    "fpr_lm, tpr_lm, thresh = roc_curve(y_test,y_pred_proba_lm)\n",
    "roc_lm = auc(fpr_lm, tpr_lm)"
   ]
  },
  {
   "cell_type": "code",
   "execution_count": 8,
   "metadata": {
    "collapsed": false
   },
   "outputs": [],
   "source": [
    "rf = RandomForestClassifier(n_estimators=100,max_depth=3)\n",
    "rf.fit(X_train,y_train)\n",
    "y_pred_rf = rf.predict(X_test)\n",
    "y_pred_proba_rf = rf.predict_proba(X_test)[:,1]\n",
    "fpr_rf, tpr_rf, thresh = roc_curve(y_test,y_pred_proba_rf)\n",
    "roc_rf = auc(fpr_rf, tpr_rf)"
   ]
  },
  {
   "cell_type": "code",
   "execution_count": 9,
   "metadata": {
    "collapsed": true
   },
   "outputs": [],
   "source": [
    "dt = DecisionTreeClassifier(max_depth=3)\n",
    "dt.fit(X_train,y_train)\n",
    "y_pred_dt = dt.predict(X_test)\n",
    "y_pred_proba_dt = dt.predict_proba(X_test)[:,1]\n",
    "fpr_dt, tpr_dt, thresh = roc_curve(y_test,y_pred_proba_dt)\n",
    "roc_dt = auc(fpr_dt, tpr_dt)"
   ]
  },
  {
   "cell_type": "code",
   "execution_count": 10,
   "metadata": {
    "collapsed": false
   },
   "outputs": [],
   "source": [
    "#stacked model using predicted labels in the second stage classification\n",
    "model_list = [lm,rf,dt]\n",
    "second_level_clf = LogisticRegression()\n",
    "stacked_model = StackedPredictionCV(model_list,second_level_clf,use_probs=False)\n",
    "stacked_model.fit(X_train,y_train)\n",
    "y_pred_lm_stacked = stacked_model.predict(X_test)\n",
    "y_pred_proba_lm_stacked = stacked_model.predict_proba(X_test)\n",
    "fpr_lms, tpr_lms, thresh = roc_curve(y_test,y_pred_proba_lm_stacked)\n",
    "roc_lms = auc(fpr_lms, tpr_lms)"
   ]
  },
  {
   "cell_type": "code",
   "execution_count": 11,
   "metadata": {
    "collapsed": false
   },
   "outputs": [],
   "source": [
    "#stacked model using predicted labels in the second stage classification\n",
    "model_list = [lm,rf,dt]\n",
    "second_level_clf = LogisticRegression()\n",
    "stacked_model = StackedPredictionCV(model_list,second_level_clf,use_probs=True)\n",
    "stacked_model.fit(X_train,y_train)\n",
    "y_pred_lm_stacked = stacked_model.predict(X_test)\n",
    "y_pred_proba_lm_stacked_proba = stacked_model.predict_proba(X_test)\n",
    "fpr_lmsp, tpr_lmsp, thresh = roc_curve(y_test,y_pred_proba_lm_stacked_proba)\n",
    "roc_lmsp = auc(fpr_lmsp, tpr_lmsp)"
   ]
  },
  {
   "cell_type": "code",
   "execution_count": 12,
   "metadata": {
    "collapsed": false
   },
   "outputs": [
    {
     "data": {
      "image/png": "[encoded data removed]",
      "text/plain": [
       "<matplotlib.figure.Figure at 0x1d5921adc88>"
      ]
     },
     "metadata": {},
     "output_type": "display_data"
    }
   ],
   "source": [
    "plt.figure(figsize=(9,7))\n",
    "lw = 2\n",
    "plt.plot(fpr_lm, tpr_lm, color='darkorange', lw=lw, label='ROC Logit (area = %0.2f)' %roc_lm)\n",
    "plt.plot(fpr_rf, tpr_rf, color='green', lw=lw, label='ROC Random Forest (area = %0.2f)' %roc_rf)\n",
    "plt.plot(fpr_dt, tpr_dt, color='red', lw=lw, label='ROC Decision Tree (area = %0.2f)' %roc_dt)\n",
    "plt.plot(fpr_lms, tpr_lms, color='pink', lw=lw, label='ROC Stacked (non-prob) (area = %0.2f)' %roc_lms)\n",
    "plt.plot(fpr_lmsp, tpr_lmsp, color='yellow', lw=lw, label='ROC Stacked (Prob) (area = %0.2f)' %roc_lmsp)\n",
    "plt.plot([0, 1], [0, 1], color='navy', lw=lw, linestyle= '--')\n",
    "plt.xlim([0.0, 1.0])\n",
    "plt.ylim([0.0, 1.05])\n",
    "plt.xlabel('False Positive Rate')\n",
    "plt.ylabel('True Positive Rate')\n",
    "plt.title('Receiver operating characteristic example')\n",
    "plt.legend(loc=\"lower right\")\n",
    "plt.show()"
   ]
  },
  {
   "cell_type": "code",
   "execution_count": null,
   "metadata": {
    "collapsed": true
   },
   "outputs": [],
   "source": []
  }
 ],
 "metadata": {
  "kernelspec": {
   "display_name": "Python [conda root]",
   "language": "python",
   "name": "conda-root-py"
  },
  "language_info": {
   "codemirror_mode": {
    "name": "ipython",
    "version": 3
   },
   "file_extension": ".py",
   "mimetype": "text/x-python",
   "name": "python",
   "nbconvert_exporter": "python",
   "pygments_lexer": "ipython3",
   "version": "3.5.2"
  }
 },
 "nbformat": 4,
 "nbformat_minor": 2
}
